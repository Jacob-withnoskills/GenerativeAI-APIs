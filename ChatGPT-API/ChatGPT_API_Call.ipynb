{
  "cells": [
    {
      "cell_type": "code",
      "execution_count": null,
      "metadata": {
        "id": "U_Hje3uJyymi"
      },
      "outputs": [],
      "source": [
        "%%capture\n",
        "# update the OpenAI Python library to make sure you are using the latest version\n",
        "!pip install --upgrade openai\n",
        "!pip install python-dotenv"
      ]
    },
    {
      "cell_type": "code",
      "execution_count": null,
      "metadata": {
        "id": "QSGOBwT-y2wP"
      },
      "outputs": [],
      "source": [
        "import openai\n",
        "import os\n",
        "import IPython\n",
        "from dotenv import load_dotenv\n",
        "load_dotenv()\n",
        "from openai import OpenAI\n",
        "\n",
        "client = OpenAI(api_key = \"\")"
      ]
    },
    {
      "cell_type": "markdown",
      "metadata": {
        "id": "6FNZ0az9CNb3"
      },
      "source": [
        "Basic API call"
      ]
    },
    {
      "cell_type": "code",
      "execution_count": null,
      "metadata": {
        "id": "XwDk0cIhy8Jd"
      },
      "outputs": [],
      "source": [
        "response = client.chat.completions.create(\n",
        "    model= \"gpt-3.5-turbo\",\n",
        "     messages=[\n",
        "        {\"role\": \"system\", \"content\": \"You are an AI Assistant for a Tech Company. You use a tone that is technical and scientific.\"},\n",
        "        {\"role\": \"user\", \"content\": \"Hello, who are you?\"},\n",
        "        {\"role\": \"assistant\", \"content\": \"Greeting! I am an Kaze. How may I help you today?\"},\n",
        "        {\"role\": \"user\", \"content\": \"Can you tell me about .yaml files?\"}\n",
        "    ],\n",
        "    temperature=0,\n",
        ")\n",
        "\n",
        "\n",
        "print(response.choices[0].text)"
      ]
    },
    {
      "cell_type": "markdown",
      "metadata": {
        "id": "REgr2zcJCLkK"
      },
      "source": []
    }
  ],
  "metadata": {
    "colab": {
      "provenance": []
    },
    "kernelspec": {
      "display_name": "Python 3",
      "name": "python3"
    },
    "language_info": {
      "name": "python"
    }
  },
  "nbformat": 4,
  "nbformat_minor": 0
}
