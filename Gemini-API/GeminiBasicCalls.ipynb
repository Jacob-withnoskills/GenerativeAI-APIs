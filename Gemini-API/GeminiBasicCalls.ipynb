{
  "cells": [
    {
      "cell_type": "markdown",
      "metadata": {
        "id": "pKXiOSdkEtNn"
      },
      "source": []
    },
    {
      "cell_type": "code",
      "execution_count": null,
      "metadata": {
        "colab": {
          "base_uri": "https://localhost:8080/"
        },
        "id": "nIv39T2vgtws",
        "outputId": "dd2c221e-41cf-4c94-df38-24d98ddd8509"
      },
      "outputs": [
        {
          "name": "stdout",
          "output_type": "stream",
          "text": [
            "\u001b[2K     \u001b[90m━━━━━━━━━━━━━━━━━━━━━━━━━━━━━━━━━━━━━━━━\u001b[0m \u001b[32m163.9/163.9 kB\u001b[0m \u001b[31m3.0 MB/s\u001b[0m eta \u001b[36m0:00:00\u001b[0m\n",
            "\u001b[2K     \u001b[90m━━━━━━━━━━━━━━━━━━━━━━━━━━━━━━━━━━━━━━━━\u001b[0m \u001b[32m718.3/718.3 kB\u001b[0m \u001b[31m5.1 MB/s\u001b[0m eta \u001b[36m0:00:00\u001b[0m\n",
            "\u001b[?25h"
          ]
        }
      ],
      "source": [
        "!pip install -U -q google-generativeai"
      ]
    },
    {
      "cell_type": "code",
      "execution_count": null,
      "metadata": {
        "id": "Xs_nUHPsg1Un"
      },
      "outputs": [],
      "source": [
        "import google.generativeai as genai\n",
        "import PIL.Image\n",
        "import os\n"
      ]
    },
    {
      "cell_type": "code",
      "execution_count": null,
      "metadata": {
        "id": "xTht78Lng3rF"
      },
      "outputs": [],
      "source": [
        "genai.configure(api_key=\"\")"
      ]
    },
    {
      "cell_type": "code",
      "execution_count": null,
      "metadata": {
        "colab": {
          "base_uri": "https://localhost:8080/",
          "height": 193
        },
        "id": "GD1OWAJrg_mf",
        "outputId": "09f51c3a-12df-49c3-cd9a-66212fcf7238"
      },
      "outputs": [
        {
          "name": "stdout",
          "output_type": "stream",
          "text": [
            "The phone's night photography mode leverages a combination of advanced hardware and software features to capture stunning images in low-light conditions. Here's how it works:\n",
            "\n",
            "* **Larger Sensor:** The triple-lens camera system utilizes a large sensor that captures more light, allowing for brighter and more detailed images in low-light environments.\n",
            "* **Optical Image Stabilization (OIS):** OIS helps to reduce camera shake, resulting in sharper images, especially in low light where shutter speeds are slower.\n",
            "* **Multi-Frame Noise Reduction:** The phone's processing power allows it to capture multiple frames and combine them to reduce noise and enhance detail. \n",
            "* **Advanced Image Processing Algorithms:**  The phone utilizes sophisticated algorithms to adjust brightness, contrast, and color balance, resulting in more natural-looking images. \n",
            "\n",
            "By combining these features, the phone's night photography mode provides exceptional image quality even in extremely low light situations. \n",
            "\n"
          ]
        }
      ],
      "source": [
        "\n",
        "import json\n",
        "\n",
        "\n",
        "def query_gemini(messages):\n",
        "    \"\"\"Generates text using the Gemini API.\"\"\"\n",
        "\n",
        "    model = genai.GenerativeModel(\n",
        "    'gemini-1.5-flash',\n",
        "    generation_config=genai.GenerationConfig(\n",
        "        max_output_tokens=2000,\n",
        "        temperature=0.9,\n",
        "    ))\n",
        "    response = model.generate_content(\n",
        "    messages, generation_config = genai.GenerationConfig(stop_sequences=['\\n6']))\n",
        "\n",
        "    return response.text\n",
        "\n",
        "messages = \"\"\"\n",
        "Product Description: A high-end smartphone with a powerful processor, a triple-lens camera system, and a long-lasting battery.\n",
        "Example FAQs and Answers:\n",
        "1. Q: Is this phone water-resistant?\n",
        "   A: Yes, it is rated IP68 for water and dust resistance, meaning it can withstand immersion in up to 1.5 meters of water for 30 minutes.\n",
        "2. Q: Does the phone support wireless charging?\n",
        "   A: Yes, it supports Qi wireless charging.\n",
        "3. Q: What is the screen resolution?\n",
        "   A: The phone features a 6.7-inch AMOLED display with a resolution of 3216 x 1440 pixels.\n",
        "question = \"How does the phone's night photography mode work?\"\n",
        "\n",
        "\"\"\"\n",
        "\n",
        "\n",
        "\n",
        "response_text = query_gemini(messages)\n",
        "print(response_text)"
      ]
    }
  ],
  "metadata": {
    "colab": {
      "provenance": []
    },
    "kernelspec": {
      "display_name": "Python 3",
      "name": "python3"
    },
    "language_info": {
      "name": "python"
    }
  },
  "nbformat": 4,
  "nbformat_minor": 0
}
